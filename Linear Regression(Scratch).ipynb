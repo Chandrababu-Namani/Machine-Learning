{
 "cells": [
  {
   "cell_type": "code",
   "execution_count": 1,
   "id": "53a3e5ce",
   "metadata": {},
   "outputs": [],
   "source": [
    "import pandas as pd\n",
    "import numpy as np\n",
    "import matplotlib.pyplot as plt"
   ]
  },
  {
   "cell_type": "code",
   "execution_count": 63,
   "id": "81d80c35",
   "metadata": {},
   "outputs": [],
   "source": [
    "data = pd.read_csv('E:\\Chrome Downloads\\Salary_Data.csv')\n",
    "#data.head(4)\n",
    "X_train = data['YearsExperience'].values\n",
    "Y_train = data['Salary'].values\n",
    "X,Y = X_train,Y_train"
   ]
  },
  {
   "cell_type": "code",
   "execution_count": 64,
   "id": "b735ad58",
   "metadata": {},
   "outputs": [
    {
     "data": {
      "text/plain": [
       "[<matplotlib.lines.Line2D at 0x26cb28e7af0>]"
      ]
     },
     "execution_count": 64,
     "metadata": {},
     "output_type": "execute_result"
    },
    {
     "data": {
      "image/png": "[encoded data removed]",
      "text/plain": [
       "<Figure size 432x288 with 1 Axes>"
      ]
     },
     "metadata": {
      "needs_background": "light"
     },
     "output_type": "display_data"
    }
   ],
   "source": [
    "plt.plot(X,Y,'o')"
   ]
  },
  {
   "cell_type": "code",
   "execution_count": 65,
   "id": "20b70e7b",
   "metadata": {},
   "outputs": [],
   "source": [
    "X_m = np.mean(X)\n",
    "Y_m = np.mean(Y)\n",
    "n=len(X)"
   ]
  },
  {
   "cell_type": "code",
   "execution_count": 80,
   "id": "73d511c4",
   "metadata": {},
   "outputs": [
    {
     "name": "stdout",
     "output_type": "stream",
     "text": [
      "9449.962321455077 25792.20019866869\n"
     ]
    }
   ],
   "source": [
    "num=0\n",
    "den=0\n",
    "for i in range(n):\n",
    "    num += (X[i]-X_m)*(Y[i]-Y_m)\n",
    "    den += (X[i]-X_m)**2\n",
    "m=num/den\n",
    "c = Y_m - m*X_m\n",
    "print(m,c)"
   ]
  },
  {
   "cell_type": "code",
   "execution_count": 85,
   "id": "6c1def08",
   "metadata": {},
   "outputs": [
    {
     "data": {
      "image/png": "[encoded data removed]",
      "text/plain": [
       "<Figure size 432x288 with 1 Axes>"
      ]
     },
     "metadata": {
      "needs_background": "light"
     },
     "output_type": "display_data"
    }
   ],
   "source": [
    "\n",
    "Y_n=[]\n",
    "for i in range(n):\n",
    "    Y_n.append(c+(m*X[i]))\n",
    "plt.plot(X,Y_n,color='g')\n",
    "plt.scatter(X,Y,color='r')\n",
    "plt.show()"
   ]
  },
  {
   "cell_type": "markdown",
   "id": "c1db8493",
   "metadata": {},
   "source": [
    "# Goodness"
   ]
  },
  {
   "cell_type": "code",
   "execution_count": 84,
   "id": "e2e27df3",
   "metadata": {},
   "outputs": [
    {
     "name": "stdout",
     "output_type": "stream",
     "text": [
      "Goodness of model: 0.9569566641435086\n"
     ]
    }
   ],
   "source": [
    "sumofsq=0\n",
    "sumofres=0\n",
    "for i in range(n):\n",
    "    sumofsq+=(Y[i]-Y_m)**2\n",
    "    sumofres+=(Y[i]-Y_n[i])**2\n",
    "\n",
    "print('Goodness of model:',1-(sumofres/sumofsq))"
   ]
  },
  {
   "cell_type": "code",
   "execution_count": null,
   "id": "ae35c244",
   "metadata": {},
   "outputs": [],
   "source": []
  }
 ],
 "metadata": {
  "kernelspec": {
   "display_name": "Python 3 (ipykernel)",
   "language": "python",
   "name": "python3"
  },
  "language_info": {
   "codemirror_mode": {
    "name": "ipython",
    "version": 3
   },
   "file_extension": ".py",
   "mimetype": "text/x-python",
   "name": "python",
   "nbconvert_exporter": "python",
   "pygments_lexer": "ipython3",
   "version": "3.9.7"
  }
 },
 "nbformat": 4,
 "nbformat_minor": 5
}
